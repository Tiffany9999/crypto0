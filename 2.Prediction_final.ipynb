{
 "cells": [
  {
   "cell_type": "markdown",
   "id": "76cc7fcb",
   "metadata": {},
   "source": [
    "# Prediction on Cryptocurrency Prices"
   ]
  },
  {
   "cell_type": "markdown",
   "id": "c8adc697",
   "metadata": {},
   "source": [
    "### Question ：Predicting Cryptocurrency Prices \n",
    "\n",
    "#### Background: \n",
    "\n",
    "How can we predict the price of cryptocurrencies? This is not only a question that concerns all cryptocurrency researchers and investors, but also an important step for us to know more about cryptocurrency. By predicting the price of different cryptocurrencies, we can compare our model's prediction with the current price of cryptocurrencies on the market and identify if any crypto is over-priced or under-priced. If our models are accurate, we can invest into the cryptos that are undervalued, and short the ones that are over-valued, and anticipate potential market correction.\n",
    "\n",
    "A common method for price prediction are regression-based strategies. The problem to be solved, is understanding the relationship between the price and other noticeable characteristics of cryptocurrency. \n",
    "\n",
    "In this question, we want to find the best model to predict prices of different cryptocurrencies (target variable) based on their characteristics.The variables include cmc_rank,volume_24h,percent_change_7d,market_cap, 'binance-smart-chain','collectibles-nfts','defi','mineable',circulating/total_supply.  ( Please refer to README for more information on the columns.)\n",
    "\n",
    "The metric we will be using to analyze each model is MSE.\n",
    "\n",
    "\n",
    "\n",
    "\n",
    "#### Structure of this Notebook: \n",
    "- Linear Regression\n",
    "- Polynomial Regression\n",
    "- Lasso & Ridge Regression\n",
    "- Conclusion & Future Work\n",
    "- Reference\n",
    "- Appendix"
   ]
  },
  {
   "cell_type": "code",
   "execution_count": 31,
   "id": "2ed29840",
   "metadata": {},
   "outputs": [],
   "source": [
    "import pandas as pd\n",
    "import numpy as np\n",
    "import pandas as pd\n",
    "import seaborn as sns\n",
    "from matplotlib import pyplot as plt\n",
    "import plotly.express as px\n",
    "import statsmodels.api as sm\n",
    "import statsmodels.formula.api as smf\n",
    "from sklearn.metrics import mean_squared_error,r2_score\n",
    "from sklearn.linear_model import LinearRegression\n",
    "from sklearn.preprocessing import PolynomialFeatures\n",
    "from sklearn.model_selection import train_test_split, LeaveOneOut, KFold, cross_val_score\n",
    "from sklearn.datasets import load_diabetes\n",
    "import warnings\n",
    "%matplotlib inline\n",
    "warnings.filterwarnings('ignore')"
   ]
  },
  {
   "cell_type": "markdown",
   "id": "06300ad3",
   "metadata": {},
   "source": [
    "## Additional Data Cleaning"
   ]
  },
  {
   "cell_type": "code",
   "execution_count": 32,
   "id": "c2bb1775",
   "metadata": {},
   "outputs": [],
   "source": [
    "# setting the number to numeric for clear representation\n",
    "pd.set_option('display.float_format', lambda x: '%.5f' % x)"
   ]
  },
  {
   "cell_type": "code",
   "execution_count": 33,
   "id": "610838c4",
   "metadata": {},
   "outputs": [],
   "source": [
    "crypto = pd.read_csv(\"crypto_cleaned_final.csv\")\n",
    "crypto = crypto.set_index('slug')"
   ]
  },
  {
   "cell_type": "code",
   "execution_count": 34,
   "id": "312fb5ea",
   "metadata": {},
   "outputs": [
    {
     "data": {
      "text/html": [
       "<div>\n",
       "<style scoped>\n",
       "    .dataframe tbody tr th:only-of-type {\n",
       "        vertical-align: middle;\n",
       "    }\n",
       "\n",
       "    .dataframe tbody tr th {\n",
       "        vertical-align: top;\n",
       "    }\n",
       "\n",
       "    .dataframe thead th {\n",
       "        text-align: right;\n",
       "    }\n",
       "</style>\n",
       "<table border=\"1\" class=\"dataframe\">\n",
       "  <thead>\n",
       "    <tr style=\"text-align: right;\">\n",
       "      <th></th>\n",
       "      <th>cmc_rank</th>\n",
       "      <th>volume_24h</th>\n",
       "      <th>percent_change_7d</th>\n",
       "      <th>market_cap</th>\n",
       "      <th>'binance-smart-chain'</th>\n",
       "      <th>'collectibles-nfts'</th>\n",
       "      <th>'defi'</th>\n",
       "      <th>'mineable'</th>\n",
       "      <th>circulating/total_supply</th>\n",
       "      <th>price</th>\n",
       "    </tr>\n",
       "    <tr>\n",
       "      <th>slug</th>\n",
       "      <th></th>\n",
       "      <th></th>\n",
       "      <th></th>\n",
       "      <th></th>\n",
       "      <th></th>\n",
       "      <th></th>\n",
       "      <th></th>\n",
       "      <th></th>\n",
       "      <th></th>\n",
       "      <th></th>\n",
       "    </tr>\n",
       "  </thead>\n",
       "  <tbody>\n",
       "    <tr>\n",
       "      <th>cardano</th>\n",
       "      <td>0.00000</td>\n",
       "      <td>3.97463</td>\n",
       "      <td>12.82723</td>\n",
       "      <td>100.00000</td>\n",
       "      <td>100.00000</td>\n",
       "      <td>0.00000</td>\n",
       "      <td>0.00000</td>\n",
       "      <td>100.00000</td>\n",
       "      <td>2.12253</td>\n",
       "      <td>2.25813</td>\n",
       "    </tr>\n",
       "    <tr>\n",
       "      <th>binance-coin</th>\n",
       "      <td>0.03711</td>\n",
       "      <td>2.65625</td>\n",
       "      <td>15.41839</td>\n",
       "      <td>98.03027</td>\n",
       "      <td>100.00000</td>\n",
       "      <td>0.00000</td>\n",
       "      <td>0.00000</td>\n",
       "      <td>0.00000</td>\n",
       "      <td>2.19489</td>\n",
       "      <td>421.64318</td>\n",
       "    </tr>\n",
       "    <tr>\n",
       "      <th>tether</th>\n",
       "      <td>0.07421</td>\n",
       "      <td>100.00000</td>\n",
       "      <td>12.95234</td>\n",
       "      <td>94.07876</td>\n",
       "      <td>100.00000</td>\n",
       "      <td>0.00000</td>\n",
       "      <td>0.00000</td>\n",
       "      <td>0.00000</td>\n",
       "      <td>2.09153</td>\n",
       "      <td>1.00018</td>\n",
       "    </tr>\n",
       "    <tr>\n",
       "      <th>xrp</th>\n",
       "      <td>0.11132</td>\n",
       "      <td>6.29600</td>\n",
       "      <td>14.30666</td>\n",
       "      <td>67.40079</td>\n",
       "      <td>0.00000</td>\n",
       "      <td>0.00000</td>\n",
       "      <td>0.00000</td>\n",
       "      <td>0.00000</td>\n",
       "      <td>1.02617</td>\n",
       "      <td>1.04262</td>\n",
       "    </tr>\n",
       "    <tr>\n",
       "      <th>solana</th>\n",
       "      <td>0.14842</td>\n",
       "      <td>5.38926</td>\n",
       "      <td>15.06570</td>\n",
       "      <td>66.55776</td>\n",
       "      <td>0.00000</td>\n",
       "      <td>0.00000</td>\n",
       "      <td>0.00000</td>\n",
       "      <td>0.00000</td>\n",
       "      <td>1.29304</td>\n",
       "      <td>161.68237</td>\n",
       "    </tr>\n",
       "  </tbody>\n",
       "</table>\n",
       "</div>"
      ],
      "text/plain": [
       "              cmc_rank  volume_24h  percent_change_7d  market_cap  \\\n",
       "slug                                                                \n",
       "cardano        0.00000     3.97463           12.82723   100.00000   \n",
       "binance-coin   0.03711     2.65625           15.41839    98.03027   \n",
       "tether         0.07421   100.00000           12.95234    94.07876   \n",
       "xrp            0.11132     6.29600           14.30666    67.40079   \n",
       "solana         0.14842     5.38926           15.06570    66.55776   \n",
       "\n",
       "              'binance-smart-chain'  'collectibles-nfts'  'defi'  'mineable'  \\\n",
       "slug                                                                           \n",
       "cardano                   100.00000              0.00000 0.00000   100.00000   \n",
       "binance-coin              100.00000              0.00000 0.00000     0.00000   \n",
       "tether                    100.00000              0.00000 0.00000     0.00000   \n",
       "xrp                         0.00000              0.00000 0.00000     0.00000   \n",
       "solana                      0.00000              0.00000 0.00000     0.00000   \n",
       "\n",
       "              circulating/total_supply     price  \n",
       "slug                                              \n",
       "cardano                        2.12253   2.25813  \n",
       "binance-coin                   2.19489 421.64318  \n",
       "tether                         2.09153   1.00018  \n",
       "xrp                            1.02617   1.04262  \n",
       "solana                         1.29304 161.68237  "
      ]
     },
     "execution_count": 34,
     "metadata": {},
     "output_type": "execute_result"
    }
   ],
   "source": [
    "crypto.head()\n"
   ]
  },
  {
   "cell_type": "code",
   "execution_count": 35,
   "id": "a052db83",
   "metadata": {},
   "outputs": [
    {
     "data": {
      "text/html": [
       "<div>\n",
       "<style scoped>\n",
       "    .dataframe tbody tr th:only-of-type {\n",
       "        vertical-align: middle;\n",
       "    }\n",
       "\n",
       "    .dataframe tbody tr th {\n",
       "        vertical-align: top;\n",
       "    }\n",
       "\n",
       "    .dataframe thead th {\n",
       "        text-align: right;\n",
       "    }\n",
       "</style>\n",
       "<table border=\"1\" class=\"dataframe\">\n",
       "  <thead>\n",
       "    <tr style=\"text-align: right;\">\n",
       "      <th></th>\n",
       "      <th>cmc_rank</th>\n",
       "      <th>volume_24h</th>\n",
       "      <th>percent_change_7d</th>\n",
       "      <th>market_cap</th>\n",
       "      <th>'binance-smart-chain'</th>\n",
       "      <th>'collectibles-nfts'</th>\n",
       "      <th>'defi'</th>\n",
       "      <th>'mineable'</th>\n",
       "      <th>circulating/total_supply</th>\n",
       "      <th>price</th>\n",
       "    </tr>\n",
       "    <tr>\n",
       "      <th>slug</th>\n",
       "      <th></th>\n",
       "      <th></th>\n",
       "      <th></th>\n",
       "      <th></th>\n",
       "      <th></th>\n",
       "      <th></th>\n",
       "      <th></th>\n",
       "      <th></th>\n",
       "      <th></th>\n",
       "      <th></th>\n",
       "    </tr>\n",
       "  </thead>\n",
       "  <tbody>\n",
       "  </tbody>\n",
       "</table>\n",
       "</div>"
      ],
      "text/plain": [
       "Empty DataFrame\n",
       "Columns: [cmc_rank, volume_24h, percent_change_7d, market_cap, 'binance-smart-chain', 'collectibles-nfts', 'defi', 'mineable', circulating/total_supply, price]\n",
       "Index: []"
      ]
     },
     "execution_count": 35,
     "metadata": {},
     "output_type": "execute_result"
    }
   ],
   "source": [
    "#check again if there are null and infinite values\n",
    "crypto.isnull().sum()\n",
    "crypto.iloc[crypto.values==np.inf]"
   ]
  },
  {
   "cell_type": "code",
   "execution_count": 36,
   "id": "d77cf9b1",
   "metadata": {},
   "outputs": [],
   "source": [
    "X = crypto.drop(['price'],axis =1)\n",
    "Y = crypto['price']"
   ]
  },
  {
   "cell_type": "code",
   "execution_count": 37,
   "id": "a9ec2a6f",
   "metadata": {},
   "outputs": [],
   "source": [
    "X_train, X_test,y_train, y_test = train_test_split(X, Y, test_size=0.25, random_state=1)"
   ]
  },
  {
   "cell_type": "markdown",
   "id": "f042893e",
   "metadata": {},
   "source": [
    "## 1. Linear Regression"
   ]
  },
  {
   "cell_type": "code",
   "execution_count": 38,
   "id": "6e295700",
   "metadata": {},
   "outputs": [
    {
     "name": "stdout",
     "output_type": "stream",
     "text": [
      "[-1.54424949e-01 -2.90042408e+00 -1.89008848e-02  2.89183421e+00\n",
      "  9.48456648e-04  4.25602706e-02  3.88111846e-02 -1.95864495e-02\n",
      "  3.91294000e+00]\n"
     ]
    }
   ],
   "source": [
    "# Get the linear regression model \n",
    "lm = LinearRegression(normalize=True)\n",
    "lm.fit(X_train,y_train)\n",
    "print(lm.coef_)"
   ]
  },
  {
   "cell_type": "code",
   "execution_count": 39,
   "id": "0bcf567c",
   "metadata": {},
   "outputs": [
    {
     "name": "stdout",
     "output_type": "stream",
     "text": [
      "Training R-squared:  0.13639639595127184\n",
      "Testing R-squared:  -0.17410253557481048\n",
      "Training Mean squared error: 1224.25\n",
      "Testing Mean squared error: 4040.23\n"
     ]
    }
   ],
   "source": [
    "# Get the linear regression result\n",
    "print(\"Training R-squared: \", lm.score(X_train,y_train))\n",
    "print(\"Testing R-squared: \", lm.score(X_test,y_test))\n",
    "\n",
    "train_pred = lm.predict(X_train)\n",
    "test_pred = lm.predict(X_test)\n",
    "\n",
    "print('Training Mean squared error: %.2f'% mean_squared_error(y_train, train_pred))\n",
    "print('Testing Mean squared error: %.2f'% mean_squared_error(y_test, test_pred))"
   ]
  },
  {
   "cell_type": "markdown",
   "id": "235a8832",
   "metadata": {},
   "source": [
    "We use MSE and R-squared to measure the result of linear regression. While the traning R-squared is ok ( >0, because financial asset (especially cryptocurrencies) returns are often said to be unpredictable. ),the testing R-squared value is unsatisfactory with a negative value. \n",
    "\n",
    "Training and testing MSEs are both very large. This result shows that linear regression is not a suitable method for doing prediction on this dataset. This makes sense because in reality it is hard to say the relationships between the prices of cryptocurrencies and other variables(volume_24h,percent_change_7d, market_cap,'binance-smart-chain'\t,'collectibles-nfts',\t'defi',\t'mineable'\tcirculating/total_supply) are linear. "
   ]
  },
  {
   "cell_type": "markdown",
   "id": "d43ca9f1",
   "metadata": {},
   "source": [
    "## 2.Polynomial"
   ]
  },
  {
   "cell_type": "code",
   "execution_count": 40,
   "id": "146fafc9",
   "metadata": {},
   "outputs": [
    {
     "name": "stdout",
     "output_type": "stream",
     "text": [
      "Degree=1, Testing MSE value is :4040.2262473087567, Training MSE value is:1224.2522443558566\n",
      "Testing r2 score is : -0.17410253557481137 , Training r2 score is : 0.13639639595127184\n",
      "Degree=2, Testing MSE value is :2577618.510807117, Training MSE value is:995.7670617669065\n",
      "Testing r2 score is : -748.0640979076652 , Training r2 score is : 0.2975728430970721\n",
      "Degree=3, Testing MSE value is :1.2883689853627423e+29, Training MSE value is:740.7801122237224\n",
      "Testing r2 score is : -3.7440410508643056e+25 , Training r2 score is : 0.47744398454370085\n",
      "Degree=4, Testing MSE value is :1.1404941396402658e+17, Training MSE value is:339.19181271979\n",
      "Testing r2 score is : -33143120686663.785 , Training r2 score is : 0.7607296427030392\n",
      "Degree=5, Testing MSE value is :6.57932787090497e+32, Training MSE value is:69.14896396239897\n",
      "Testing r2 score is : -1.911973504145501e+29 , Training r2 score is : 0.9512214130956453\n",
      "Degree=6, Testing MSE value is :2.7695136487967e+36, Training MSE value is:13.634563871624291\n",
      "Testing r2 score is : -8.048294323931103e+32 , Training r2 score is : 0.9903819996626899\n",
      "Degree=7, Testing MSE value is :3.340463184678745e+37, Training MSE value is:0.01544581403037425\n",
      "Testing r2 score is : -9.707491746874686e+33 , Training r2 score is : 0.9999891043200243\n",
      "Degree=8, Testing MSE value is :3.923138936060782e+35, Training MSE value is:1.2794107345382865e-08\n",
      "Testing r2 score is : -1.1400765923218918e+32 , Training r2 score is : 0.9999999999909749\n",
      "Degree=9, Testing MSE value is :1.414040121635197e+40, Training MSE value is:7.592741517083153e-11\n",
      "Testing r2 score is : -4.1092453506095047e+36 , Training r2 score is : 0.9999999999999465\n",
      "Degree=10, Testing MSE value is :3.17893605350218e+43, Training MSE value is:3.961560291276198e-11\n",
      "Testing r2 score is : -9.238088791025721e+39 , Training r2 score is : 0.999999999999972\n"
     ]
    }
   ],
   "source": [
    "# First, we have to decide the most accurate degree for polynomial regression\n",
    "TEST_PL_MSE=[]\n",
    "TRAIN_PL_MSE=[]\n",
    "for i in [1,2,3,4,5,6,7,8,9,10]:\n",
    "    a = PolynomialFeatures(degree = i)\n",
    "    b = a.fit_transform(X_train)\n",
    "    c = a.fit_transform(X_test)\n",
    "    lm_poly=LinearRegression(normalize=True)\n",
    "    lm_poly.fit(b, y_train)\n",
    "    y_poly_test_pred1 = lm_poly.predict(c)\n",
    "    y_poly_train_pred1 = lm_poly.predict(b)\n",
    "    \n",
    "    mse = mean_squared_error(y_test, y_poly_test_pred1)\n",
    "    mse1 =mean_squared_error(y_train, y_poly_train_pred1)\n",
    "    r2_test= r2_score(y_test, y_poly_test_pred1)\n",
    "    r2_train = r2_score(y_train, y_poly_train_pred1)\n",
    "    TEST_PL_MSE.append(mse)\n",
    "    TRAIN_PL_MSE.append(mse1)\n",
    "\n",
    "    print('Degree='+str(i)+\", Testing MSE value is :\"+str(mse)+ \", Training MSE value is:\"+str(mse1))\n",
    "    print('Testing r2 score is :',str(r2_test),', Training r2 score is :', str(r2_train))"
   ]
  },
  {
   "cell_type": "markdown",
   "id": "efb9e2ec",
   "metadata": {},
   "source": [
    "We can see from the result, when degree = 1 it is most appropriate. Because the testing R-squred value is better than that of other degrees. Training MSE is lower when degree = 2 than when degree = 1, but by balancing the training and testing result, degree = 1 is still our choice. When degree = 1, it means linear regression is better than polynomial features. So they are equally not promising in doing the prediction. "
   ]
  },
  {
   "cell_type": "markdown",
   "id": "dc1c08ce",
   "metadata": {},
   "source": [
    "## 3. Lasso"
   ]
  },
  {
   "cell_type": "code",
   "execution_count": 41,
   "id": "c51b4e3f",
   "metadata": {},
   "outputs": [],
   "source": [
    "from sklearn.linear_model import Ridge, RidgeCV, Lasso, LassoCV"
   ]
  },
  {
   "cell_type": "code",
   "execution_count": 42,
   "id": "f85615cb",
   "metadata": {},
   "outputs": [],
   "source": [
    "# find the best alpha\n",
    "model_lasso = Lasso(normalize=True)\n",
    "coefficient = []\n",
    "average_cv_error=[]\n",
    "k=10\n",
    "alphas = np.logspace(-5, 5, 200)\n",
    "\n",
    "for a in alphas:\n",
    "    model_lasso.set_params(alpha=a)\n",
    "    model_lasso.fit(X_train, y_train)\n",
    "    coef=list(model_lasso.coef_)\n",
    "    coefficient.append(coef)\n",
    "    cv_error=cross_val_score(model_lasso,X_train, y_train, cv=k)\n",
    "    \n",
    "    sum_=0\n",
    "    for i in cv_error:\n",
    "        sum_+=abs(i)\n",
    "    average_cv_error.append(sum_/k)\n",
    "    \n",
    "lasso_min=min(average_cv_error)"
   ]
  },
  {
   "cell_type": "code",
   "execution_count": 43,
   "id": "6cde8f60",
   "metadata": {},
   "outputs": [
    {
     "name": "stdout",
     "output_type": "stream",
     "text": [
      "minimum cv error  0.006145767967909532\n"
     ]
    },
    {
     "data": {
      "image/png": "[encoded data removed]",
      "text/plain": [
       "<Figure size 1440x432 with 2 Axes>"
      ]
     },
     "metadata": {
      "needs_background": "light"
     },
     "output_type": "display_data"
    }
   ],
   "source": [
    "#Using graph for choosing the best alpha\n",
    "plt.figure(figsize=(20, 6))\n",
    "plt.subplot(121)\n",
    "ax = plt.gca()\n",
    "ax.plot(alphas,coefficient)\n",
    "ax.set_xscale(\"log\")\n",
    "plt.xlabel(\"alpha\")\n",
    "plt.ylabel(\"weights\")\n",
    "plt.title(\"Lasso coefficients as a function of the regularization\")\n",
    "plt.axis(\"tight\")\n",
    "\n",
    "plt.subplot(122)\n",
    "ax = plt.gca()\n",
    "ax.plot(alphas, average_cv_error,c='g')\n",
    "ax.set_xscale(\"log\")\n",
    "plt.xlabel(\"alpha\")\n",
    "plt.ylabel(\"errors\")\n",
    "plt.title(\"Average CV Error as a function of the regularization\")\n",
    "plt.axis(\"tight\")\n",
    "print('minimum cv error ',str(min(average_cv_error)))\n",
    "plt.show()"
   ]
  },
  {
   "cell_type": "code",
   "execution_count": 44,
   "id": "552c3e49",
   "metadata": {},
   "outputs": [],
   "source": [
    "lasso_metric = pd.DataFrame()\n",
    "lasso_metric['alpha'] = alphas\n",
    "lasso_metric['average_cv'] = average_cv_error\n"
   ]
  },
  {
   "cell_type": "code",
   "execution_count": 45,
   "id": "f6607434",
   "metadata": {},
   "outputs": [
    {
     "data": {
      "text/html": [
       "<div>\n",
       "<style scoped>\n",
       "    .dataframe tbody tr th:only-of-type {\n",
       "        vertical-align: middle;\n",
       "    }\n",
       "\n",
       "    .dataframe tbody tr th {\n",
       "        vertical-align: top;\n",
       "    }\n",
       "\n",
       "    .dataframe thead th {\n",
       "        text-align: right;\n",
       "    }\n",
       "</style>\n",
       "<table border=\"1\" class=\"dataframe\">\n",
       "  <thead>\n",
       "    <tr style=\"text-align: right;\">\n",
       "      <th></th>\n",
       "      <th>alpha</th>\n",
       "      <th>average_cv</th>\n",
       "    </tr>\n",
       "  </thead>\n",
       "  <tbody>\n",
       "    <tr>\n",
       "      <th>92</th>\n",
       "      <td>0.41987</td>\n",
       "      <td>0.00615</td>\n",
       "    </tr>\n",
       "    <tr>\n",
       "      <th>93</th>\n",
       "      <td>0.47138</td>\n",
       "      <td>0.00615</td>\n",
       "    </tr>\n",
       "    <tr>\n",
       "      <th>94</th>\n",
       "      <td>0.52920</td>\n",
       "      <td>0.00615</td>\n",
       "    </tr>\n",
       "    <tr>\n",
       "      <th>95</th>\n",
       "      <td>0.59411</td>\n",
       "      <td>0.00615</td>\n",
       "    </tr>\n",
       "    <tr>\n",
       "      <th>96</th>\n",
       "      <td>0.66699</td>\n",
       "      <td>0.00615</td>\n",
       "    </tr>\n",
       "    <tr>\n",
       "      <th>...</th>\n",
       "      <td>...</td>\n",
       "      <td>...</td>\n",
       "    </tr>\n",
       "    <tr>\n",
       "      <th>195</th>\n",
       "      <td>62949.88990</td>\n",
       "      <td>0.00615</td>\n",
       "    </tr>\n",
       "    <tr>\n",
       "      <th>196</th>\n",
       "      <td>70671.81274</td>\n",
       "      <td>0.00615</td>\n",
       "    </tr>\n",
       "    <tr>\n",
       "      <th>197</th>\n",
       "      <td>79340.96666</td>\n",
       "      <td>0.00615</td>\n",
       "    </tr>\n",
       "    <tr>\n",
       "      <th>198</th>\n",
       "      <td>89073.54639</td>\n",
       "      <td>0.00615</td>\n",
       "    </tr>\n",
       "    <tr>\n",
       "      <th>199</th>\n",
       "      <td>100000.00000</td>\n",
       "      <td>0.00615</td>\n",
       "    </tr>\n",
       "  </tbody>\n",
       "</table>\n",
       "<p>108 rows × 2 columns</p>\n",
       "</div>"
      ],
      "text/plain": [
       "           alpha  average_cv\n",
       "92       0.41987     0.00615\n",
       "93       0.47138     0.00615\n",
       "94       0.52920     0.00615\n",
       "95       0.59411     0.00615\n",
       "96       0.66699     0.00615\n",
       "..           ...         ...\n",
       "195  62949.88990     0.00615\n",
       "196  70671.81274     0.00615\n",
       "197  79340.96666     0.00615\n",
       "198  89073.54639     0.00615\n",
       "199 100000.00000     0.00615\n",
       "\n",
       "[108 rows x 2 columns]"
      ]
     },
     "execution_count": 45,
     "metadata": {},
     "output_type": "execute_result"
    }
   ],
   "source": [
    "# get the alpha that corresponds to the lowest cv score\n",
    "lasso_metric.loc[lasso_metric['average_cv'] == min(lasso_metric['average_cv'])]"
   ]
  },
  {
   "cell_type": "code",
   "execution_count": 46,
   "id": "0f149582",
   "metadata": {},
   "outputs": [
    {
     "name": "stdout",
     "output_type": "stream",
     "text": [
      "Testing MSE: 3474.805809882059\n"
     ]
    }
   ],
   "source": [
    "# The prediction with tuned model\n",
    "model_lasso.set_params(alpha = 0.41987)\n",
    "model_lasso.fit(X_train, y_train)\n",
    "y_lasso_pred = model_lasso.predict(X_test)\n",
    "print(\"Testing MSE:\", mean_squared_error(y_test, y_lasso_pred))"
   ]
  },
  {
   "cell_type": "markdown",
   "id": "4d7a5e05",
   "metadata": {},
   "source": [
    "When alpha = 0.41987 the model has the lowest CV error. When using tuned model to predict the testing set, the testing MSE is 3474.805809882059. This is smaller than that of linear regression and polynomial regression."
   ]
  },
  {
   "cell_type": "markdown",
   "id": "3302fcf3",
   "metadata": {},
   "source": [
    "## 4.Ridge"
   ]
  },
  {
   "cell_type": "code",
   "execution_count": 47,
   "id": "a159e25b",
   "metadata": {},
   "outputs": [],
   "source": [
    "model_ridge = Ridge(normalize=True)\n",
    "coefficient = []\n",
    "average_cv_error=[]\n",
    "k=10\n",
    "alphas = np.logspace(-5, 5, 200)\n",
    "\n",
    "for a in alphas:\n",
    "    model_ridge.set_params(alpha=a)\n",
    "    model_ridge.fit(X_train, y_train)\n",
    "    coef=model_ridge.coef_\n",
    "    coefficient.append(coef)\n",
    "    cv_error=cross_val_score(model_ridge, X_train, y_train, cv=k)\n",
    "    sum_=0\n",
    "    for i in cv_error:\n",
    "        sum_+=abs(i)\n",
    "    average_cv_error.append(sum_/k)\n",
    "    \n",
    "ridge_min=min(average_cv_error)"
   ]
  },
  {
   "cell_type": "code",
   "execution_count": 48,
   "id": "d3fde4e5",
   "metadata": {},
   "outputs": [
    {
     "name": "stdout",
     "output_type": "stream",
     "text": [
      "minimum cv error  0.005948294168363111\n"
     ]
    },
    {
     "data": {
      "image/png": "[encoded data removed]",
      "text/plain": [
       "<Figure size 1440x432 with 2 Axes>"
      ]
     },
     "metadata": {
      "needs_background": "light"
     },
     "output_type": "display_data"
    }
   ],
   "source": [
    "plt.figure(figsize=(20, 6))\n",
    "\n",
    "plt.subplot(121)\n",
    "ax = plt.gca()\n",
    "ax.plot(alphas,coefficient)\n",
    "ax.set_xscale(\"log\")\n",
    "plt.xlabel(\"alpha\")\n",
    "plt.ylabel(\"weights\")\n",
    "plt.title(\"Ridge coefficients as a function of the regularization\")\n",
    "plt.axis(\"tight\")\n",
    "\n",
    "plt.subplot(122)\n",
    "ax = plt.gca()\n",
    "ax.plot(alphas, average_cv_error,c='g')\n",
    "ax.set_xscale(\"log\")\n",
    "plt.xlabel(\"alpha\")\n",
    "plt.ylabel(\"errors\")\n",
    "plt.title(\"Average CV Error as a function of the regularization\")\n",
    "plt.axis(\"tight\")\n",
    "print('minimum cv error ',str(min(average_cv_error)))\n",
    "plt.show()"
   ]
  },
  {
   "cell_type": "code",
   "execution_count": 49,
   "id": "f556c6b4",
   "metadata": {},
   "outputs": [
    {
     "data": {
      "text/html": [
       "<div>\n",
       "<style scoped>\n",
       "    .dataframe tbody tr th:only-of-type {\n",
       "        vertical-align: middle;\n",
       "    }\n",
       "\n",
       "    .dataframe tbody tr th {\n",
       "        vertical-align: top;\n",
       "    }\n",
       "\n",
       "    .dataframe thead th {\n",
       "        text-align: right;\n",
       "    }\n",
       "</style>\n",
       "<table border=\"1\" class=\"dataframe\">\n",
       "  <thead>\n",
       "    <tr style=\"text-align: right;\">\n",
       "      <th></th>\n",
       "      <th>alpha</th>\n",
       "      <th>average_cv</th>\n",
       "    </tr>\n",
       "  </thead>\n",
       "  <tbody>\n",
       "    <tr>\n",
       "      <th>0</th>\n",
       "      <td>0.00001</td>\n",
       "      <td>0.98642</td>\n",
       "    </tr>\n",
       "    <tr>\n",
       "      <th>1</th>\n",
       "      <td>0.00001</td>\n",
       "      <td>0.98640</td>\n",
       "    </tr>\n",
       "    <tr>\n",
       "      <th>2</th>\n",
       "      <td>0.00001</td>\n",
       "      <td>0.98638</td>\n",
       "    </tr>\n",
       "    <tr>\n",
       "      <th>3</th>\n",
       "      <td>0.00001</td>\n",
       "      <td>0.98636</td>\n",
       "    </tr>\n",
       "    <tr>\n",
       "      <th>4</th>\n",
       "      <td>0.00002</td>\n",
       "      <td>0.98633</td>\n",
       "    </tr>\n",
       "    <tr>\n",
       "      <th>...</th>\n",
       "      <td>...</td>\n",
       "      <td>...</td>\n",
       "    </tr>\n",
       "    <tr>\n",
       "      <th>195</th>\n",
       "      <td>62949.88990</td>\n",
       "      <td>0.00614</td>\n",
       "    </tr>\n",
       "    <tr>\n",
       "      <th>196</th>\n",
       "      <td>70671.81274</td>\n",
       "      <td>0.00614</td>\n",
       "    </tr>\n",
       "    <tr>\n",
       "      <th>197</th>\n",
       "      <td>79340.96666</td>\n",
       "      <td>0.00614</td>\n",
       "    </tr>\n",
       "    <tr>\n",
       "      <th>198</th>\n",
       "      <td>89073.54639</td>\n",
       "      <td>0.00614</td>\n",
       "    </tr>\n",
       "    <tr>\n",
       "      <th>199</th>\n",
       "      <td>100000.00000</td>\n",
       "      <td>0.00614</td>\n",
       "    </tr>\n",
       "  </tbody>\n",
       "</table>\n",
       "<p>200 rows × 2 columns</p>\n",
       "</div>"
      ],
      "text/plain": [
       "           alpha  average_cv\n",
       "0        0.00001     0.98642\n",
       "1        0.00001     0.98640\n",
       "2        0.00001     0.98638\n",
       "3        0.00001     0.98636\n",
       "4        0.00002     0.98633\n",
       "..           ...         ...\n",
       "195  62949.88990     0.00614\n",
       "196  70671.81274     0.00614\n",
       "197  79340.96666     0.00614\n",
       "198  89073.54639     0.00614\n",
       "199 100000.00000     0.00614\n",
       "\n",
       "[200 rows x 2 columns]"
      ]
     },
     "execution_count": 49,
     "metadata": {},
     "output_type": "execute_result"
    }
   ],
   "source": [
    "ridge_metric = pd.DataFrame()\n",
    "ridge_metric['alpha'] = alphas\n",
    "ridge_metric['average_cv'] = average_cv_error\n",
    "ridge_metric"
   ]
  },
  {
   "cell_type": "code",
   "execution_count": 50,
   "id": "9ababe87",
   "metadata": {},
   "outputs": [
    {
     "data": {
      "text/html": [
       "<div>\n",
       "<style scoped>\n",
       "    .dataframe tbody tr th:only-of-type {\n",
       "        vertical-align: middle;\n",
       "    }\n",
       "\n",
       "    .dataframe tbody tr th {\n",
       "        vertical-align: top;\n",
       "    }\n",
       "\n",
       "    .dataframe thead th {\n",
       "        text-align: right;\n",
       "    }\n",
       "</style>\n",
       "<table border=\"1\" class=\"dataframe\">\n",
       "  <thead>\n",
       "    <tr style=\"text-align: right;\">\n",
       "      <th></th>\n",
       "      <th>alpha</th>\n",
       "      <th>average_cv</th>\n",
       "    </tr>\n",
       "  </thead>\n",
       "  <tbody>\n",
       "    <tr>\n",
       "      <th>148</th>\n",
       "      <td>273.64400</td>\n",
       "      <td>0.00595</td>\n",
       "    </tr>\n",
       "  </tbody>\n",
       "</table>\n",
       "</div>"
      ],
      "text/plain": [
       "        alpha  average_cv\n",
       "148 273.64400     0.00595"
      ]
     },
     "execution_count": 50,
     "metadata": {},
     "output_type": "execute_result"
    }
   ],
   "source": [
    "# get the alpha that corresponds to the lowest cv score\n",
    "ridge_metric.loc[ridge_metric['average_cv'] == min(ridge_metric['average_cv'])]"
   ]
  },
  {
   "cell_type": "code",
   "execution_count": 51,
   "id": "f1218afc",
   "metadata": {},
   "outputs": [
    {
     "name": "stdout",
     "output_type": "stream",
     "text": [
      "Testing MSE: 3474.0727258497113\n"
     ]
    }
   ],
   "source": [
    "# The prediction\n",
    "model_ridge.set_params(alpha = 273.64400)\n",
    "model_ridge.fit(X_train, y_train)\n",
    "y_ridge_pred = model_ridge.predict(X_test)\n",
    "print(\"Testing MSE:\", mean_squared_error(y_test, y_ridge_pred))"
   ]
  },
  {
   "cell_type": "code",
   "execution_count": 22,
   "id": "82b60c19",
   "metadata": {},
   "outputs": [
    {
     "data": {
      "text/plain": [
       "slug\n",
       "lamden          0.07448\n",
       "cheesecoin      0.00048\n",
       "caluracoin      0.00433\n",
       "tutti-frutti    0.00083\n",
       "akash-network   3.57881\n",
       "                  ...  \n",
       "bankera         0.00091\n",
       "ddkoin          0.56938\n",
       "qbao            0.00711\n",
       "ren             1.04397\n",
       "masari          0.06204\n",
       "Name: price, Length: 407, dtype: float64"
      ]
     },
     "execution_count": 22,
     "metadata": {},
     "output_type": "execute_result"
    }
   ],
   "source": [
    "y_test"
   ]
  },
  {
   "cell_type": "markdown",
   "id": "154f68a4",
   "metadata": {},
   "source": [
    "When alpha = 273.64400 the model has the lowest CV error. When using tuned model to predict the testing set, the testing MSE is 3474.0727258497113. This is smaller than that of linear regression and polynomial regression，and slightlly smaller than lasso regression. Thus we should choose Ridge as our regression model. "
   ]
  },
  {
   "cell_type": "markdown",
   "id": "c66f1b58",
   "metadata": {},
   "source": [
    "------"
   ]
  },
  {
   "cell_type": "markdown",
   "id": "02ecf8a8",
   "metadata": {},
   "source": [
    "## Conclusion\n",
    "By comparing the testing MSE from the above 4 models, we think Ridge Regression is the best model because it yields the lowest MSE. We can see \n",
    "\n",
    "\n",
    "This answered the question to find the most appropriate model for the prediction, and it is also possible for us to use this model to predict the price of cryptocurrecies when we have more information on its characteristics and market information on market cap and volume.\n",
    "\n",
    "As an exmple, we use x_test to represent a future dataset we will get in order to predict prices.The ultimate prediction result will be Prediction_results:"
   ]
  },
  {
   "cell_type": "code",
   "execution_count": 23,
   "id": "702cbf29",
   "metadata": {},
   "outputs": [
    {
     "data": {
      "text/html": [
       "<div>\n",
       "<style scoped>\n",
       "    .dataframe tbody tr th:only-of-type {\n",
       "        vertical-align: middle;\n",
       "    }\n",
       "\n",
       "    .dataframe tbody tr th {\n",
       "        vertical-align: top;\n",
       "    }\n",
       "\n",
       "    .dataframe thead th {\n",
       "        text-align: right;\n",
       "    }\n",
       "</style>\n",
       "<table border=\"1\" class=\"dataframe\">\n",
       "  <thead>\n",
       "    <tr style=\"text-align: right;\">\n",
       "      <th></th>\n",
       "      <th>cmc_rank</th>\n",
       "      <th>volume_24h</th>\n",
       "      <th>percent_change_7d</th>\n",
       "      <th>market_cap</th>\n",
       "      <th>'binance-smart-chain'</th>\n",
       "      <th>'collectibles-nfts'</th>\n",
       "      <th>'defi'</th>\n",
       "      <th>'mineable'</th>\n",
       "      <th>circulating/total_supply</th>\n",
       "      <th>price_predicted</th>\n",
       "    </tr>\n",
       "    <tr>\n",
       "      <th>slug</th>\n",
       "      <th></th>\n",
       "      <th></th>\n",
       "      <th></th>\n",
       "      <th></th>\n",
       "      <th></th>\n",
       "      <th></th>\n",
       "      <th></th>\n",
       "      <th></th>\n",
       "      <th></th>\n",
       "      <th></th>\n",
       "    </tr>\n",
       "  </thead>\n",
       "  <tbody>\n",
       "    <tr>\n",
       "      <th>lamden</th>\n",
       "      <td>36.06679</td>\n",
       "      <td>0.00050</td>\n",
       "      <td>15.42626</td>\n",
       "      <td>0.01465</td>\n",
       "      <td>0.00000</td>\n",
       "      <td>0.00000</td>\n",
       "      <td>0.00000</td>\n",
       "      <td>0.00000</td>\n",
       "      <td>1.08345</td>\n",
       "      <td>7.97142</td>\n",
       "    </tr>\n",
       "    <tr>\n",
       "      <th>cheesecoin</th>\n",
       "      <td>82.52319</td>\n",
       "      <td>0.00000</td>\n",
       "      <td>12.33925</td>\n",
       "      <td>0.00027</td>\n",
       "      <td>0.00000</td>\n",
       "      <td>0.00000</td>\n",
       "      <td>0.00000</td>\n",
       "      <td>100.00000</td>\n",
       "      <td>2.19489</td>\n",
       "      <td>7.92528</td>\n",
       "    </tr>\n",
       "    <tr>\n",
       "      <th>caluracoin</th>\n",
       "      <td>88.71985</td>\n",
       "      <td>0.00000</td>\n",
       "      <td>8.11691</td>\n",
       "      <td>0.00010</td>\n",
       "      <td>0.00000</td>\n",
       "      <td>0.00000</td>\n",
       "      <td>0.00000</td>\n",
       "      <td>0.00000</td>\n",
       "      <td>2.19046</td>\n",
       "      <td>7.93597</td>\n",
       "    </tr>\n",
       "    <tr>\n",
       "      <th>tutti-frutti</th>\n",
       "      <td>89.31354</td>\n",
       "      <td>0.00001</td>\n",
       "      <td>12.40609</td>\n",
       "      <td>0.00009</td>\n",
       "      <td>100.00000</td>\n",
       "      <td>0.00000</td>\n",
       "      <td>0.00000</td>\n",
       "      <td>0.00000</td>\n",
       "      <td>0.17993</td>\n",
       "      <td>7.92267</td>\n",
       "    </tr>\n",
       "    <tr>\n",
       "      <th>akash-network</th>\n",
       "      <td>8.42301</td>\n",
       "      <td>0.00192</td>\n",
       "      <td>9.38222</td>\n",
       "      <td>0.54621</td>\n",
       "      <td>0.00000</td>\n",
       "      <td>0.00000</td>\n",
       "      <td>0.00000</td>\n",
       "      <td>0.00000</td>\n",
       "      <td>1.52002</td>\n",
       "      <td>8.00669</td>\n",
       "    </tr>\n",
       "    <tr>\n",
       "      <th>...</th>\n",
       "      <td>...</td>\n",
       "      <td>...</td>\n",
       "      <td>...</td>\n",
       "      <td>...</td>\n",
       "      <td>...</td>\n",
       "      <td>...</td>\n",
       "      <td>...</td>\n",
       "      <td>...</td>\n",
       "      <td>...</td>\n",
       "      <td>...</td>\n",
       "    </tr>\n",
       "    <tr>\n",
       "      <th>bankera</th>\n",
       "      <td>27.08720</td>\n",
       "      <td>0.00000</td>\n",
       "      <td>12.15054</td>\n",
       "      <td>0.03135</td>\n",
       "      <td>0.00000</td>\n",
       "      <td>0.00000</td>\n",
       "      <td>0.00000</td>\n",
       "      <td>0.00000</td>\n",
       "      <td>2.18602</td>\n",
       "      <td>7.99470</td>\n",
       "    </tr>\n",
       "    <tr>\n",
       "      <th>ddkoin</th>\n",
       "      <td>65.89981</td>\n",
       "      <td>0.00003</td>\n",
       "      <td>13.37781</td>\n",
       "      <td>0.00134</td>\n",
       "      <td>0.00000</td>\n",
       "      <td>0.00000</td>\n",
       "      <td>0.00000</td>\n",
       "      <td>100.00000</td>\n",
       "      <td>0.08330</td>\n",
       "      <td>7.91209</td>\n",
       "    </tr>\n",
       "    <tr>\n",
       "      <th>qbao</th>\n",
       "      <td>74.54545</td>\n",
       "      <td>0.00000</td>\n",
       "      <td>12.09320</td>\n",
       "      <td>0.00064</td>\n",
       "      <td>0.00000</td>\n",
       "      <td>0.00000</td>\n",
       "      <td>0.00000</td>\n",
       "      <td>0.00000</td>\n",
       "      <td>1.43436</td>\n",
       "      <td>7.93947</td>\n",
       "    </tr>\n",
       "    <tr>\n",
       "      <th>ren</th>\n",
       "      <td>3.30241</td>\n",
       "      <td>0.19013</td>\n",
       "      <td>12.08662</td>\n",
       "      <td>1.44035</td>\n",
       "      <td>0.00000</td>\n",
       "      <td>0.00000</td>\n",
       "      <td>100.00000</td>\n",
       "      <td>0.00000</td>\n",
       "      <td>2.18999</td>\n",
       "      <td>8.05018</td>\n",
       "    </tr>\n",
       "    <tr>\n",
       "      <th>masari</th>\n",
       "      <td>66.04824</td>\n",
       "      <td>0.00001</td>\n",
       "      <td>17.95238</td>\n",
       "      <td>0.00134</td>\n",
       "      <td>0.00000</td>\n",
       "      <td>0.00000</td>\n",
       "      <td>0.00000</td>\n",
       "      <td>100.00000</td>\n",
       "      <td>2.19489</td>\n",
       "      <td>7.94155</td>\n",
       "    </tr>\n",
       "  </tbody>\n",
       "</table>\n",
       "<p>407 rows × 10 columns</p>\n",
       "</div>"
      ],
      "text/plain": [
       "               cmc_rank  volume_24h  percent_change_7d  market_cap  \\\n",
       "slug                                                                 \n",
       "lamden         36.06679     0.00050           15.42626     0.01465   \n",
       "cheesecoin     82.52319     0.00000           12.33925     0.00027   \n",
       "caluracoin     88.71985     0.00000            8.11691     0.00010   \n",
       "tutti-frutti   89.31354     0.00001           12.40609     0.00009   \n",
       "akash-network   8.42301     0.00192            9.38222     0.54621   \n",
       "...                 ...         ...                ...         ...   \n",
       "bankera        27.08720     0.00000           12.15054     0.03135   \n",
       "ddkoin         65.89981     0.00003           13.37781     0.00134   \n",
       "qbao           74.54545     0.00000           12.09320     0.00064   \n",
       "ren             3.30241     0.19013           12.08662     1.44035   \n",
       "masari         66.04824     0.00001           17.95238     0.00134   \n",
       "\n",
       "               'binance-smart-chain'  'collectibles-nfts'    'defi'  \\\n",
       "slug                                                                  \n",
       "lamden                       0.00000              0.00000   0.00000   \n",
       "cheesecoin                   0.00000              0.00000   0.00000   \n",
       "caluracoin                   0.00000              0.00000   0.00000   \n",
       "tutti-frutti               100.00000              0.00000   0.00000   \n",
       "akash-network                0.00000              0.00000   0.00000   \n",
       "...                              ...                  ...       ...   \n",
       "bankera                      0.00000              0.00000   0.00000   \n",
       "ddkoin                       0.00000              0.00000   0.00000   \n",
       "qbao                         0.00000              0.00000   0.00000   \n",
       "ren                          0.00000              0.00000 100.00000   \n",
       "masari                       0.00000              0.00000   0.00000   \n",
       "\n",
       "               'mineable'  circulating/total_supply  price_predicted  \n",
       "slug                                                                  \n",
       "lamden            0.00000                   1.08345          7.97142  \n",
       "cheesecoin      100.00000                   2.19489          7.92528  \n",
       "caluracoin        0.00000                   2.19046          7.93597  \n",
       "tutti-frutti      0.00000                   0.17993          7.92267  \n",
       "akash-network     0.00000                   1.52002          8.00669  \n",
       "...                   ...                       ...              ...  \n",
       "bankera           0.00000                   2.18602          7.99470  \n",
       "ddkoin          100.00000                   0.08330          7.91209  \n",
       "qbao              0.00000                   1.43436          7.93947  \n",
       "ren               0.00000                   2.18999          8.05018  \n",
       "masari          100.00000                   2.19489          7.94155  \n",
       "\n",
       "[407 rows x 10 columns]"
      ]
     },
     "execution_count": 23,
     "metadata": {},
     "output_type": "execute_result"
    }
   ],
   "source": [
    "Prediction_results = X_test.copy()\n",
    "Prediction_results['price_predicted']=y_ridge_pred\n",
    "Prediction_results \n",
    "# Get the predicition of the price"
   ]
  },
  {
   "cell_type": "code",
   "execution_count": 30,
   "id": "306c0275",
   "metadata": {},
   "outputs": [
    {
     "name": "stdout",
     "output_type": "stream",
     "text": [
      "Predicted Price for akash-network is  8.006692316725664 Actual price for akash-network is 3.578814805206902\n"
     ]
    }
   ],
   "source": [
    "# example\n",
    "print(\"Predicted Price for akash-network is \", str(Prediction_results['price_predicted']['akash-network']),\n",
    "      \"Actual price for akash-network is\",str(crypto['price']['akash-network']))"
   ]
  },
  {
   "cell_type": "markdown",
   "id": "cdec340f",
   "metadata": {},
   "source": [
    "We should buy akash-network."
   ]
  },
  {
   "cell_type": "markdown",
   "id": "faf0c27e",
   "metadata": {},
   "source": [
    "## Future Work\n",
    "- Time:This project is limited in time, so we didn't go beyond the project requirements to implement other methods.\n",
    "- Data constraints: This dataset is limited in its scale. We only used data with price < 500 ( see in datacleaning file), therefore it is possible for us to include more data into the prediction process. Also, we can aggregate data from previous months,years to make the prediction more complicated.\n",
    "- Additional Methodoligies: It is also worth exploring using decision tree to predict the price. \n",
    "- Other paths or insights to explore: Another way to explore the prices of cryptocurrencies is through time series analysis. It is possible for us to get the time series data of the cryptocurrencies and use time series algorithms such as ARIMA to predict its prices. It is also possible to implement the unsupervised learning on the time series data to generate more insights. \n",
    "- There could also be other vairables that can play a major role in our prediction, we could attempt to find additional data through web scrapping, or exploring forums. \n",
    "\n",
    "\n"
   ]
  },
  {
   "cell_type": "markdown",
   "id": "6c5f574d",
   "metadata": {},
   "source": [
    "## Reference\n",
    "ALl coursematerials: Labs, Homeworks, Midterms, Inclass-exercises\n",
    "\n",
    "https://www.mlq.ai/price-prediction-with-linear-regression/"
   ]
  },
  {
   "cell_type": "markdown",
   "id": "5d2d47ce",
   "metadata": {},
   "source": [
    "## Appendix"
   ]
  },
  {
   "cell_type": "markdown",
   "id": "9e9345c5",
   "metadata": {},
   "source": [
    "This dataset doesn't have a lot of columns so feature selection is not urgent and necessary. However we can still try:\n",
    "#### Feature Selection "
   ]
  },
  {
   "cell_type": "code",
   "execution_count": 24,
   "id": "b423175d",
   "metadata": {},
   "outputs": [
    {
     "name": "stdout",
     "output_type": "stream",
     "text": [
      "Num Features: 1\n",
      "\tFeatures selected: ['cmc_rank']\n",
      "[-5447.12418776 -3841.89074641 -1464.86277339 -2068.9508149\n",
      " -2738.18400213 -1315.02352712 -1389.10299739  -526.05236331\n",
      "   -97.38344904   -39.0659867 ]\n",
      "\tCV_Error: -1892.7640848\n",
      "Num Features: 2\n",
      "\tFeatures selected: ['cmc_rank', \"'defi'\"]\n",
      "[-5465.42746516 -3815.26624805 -1438.87957223 -2035.10828725\n",
      " -2722.45923687 -1340.36344082 -1409.37681417  -507.47423799\n",
      "  -100.8942635    -37.67949246]\n",
      "\tCV_Error: -1887.2929058\n",
      "Num Features: 3\n",
      "\tFeatures selected: ['cmc_rank', 'percent_change_7d', \"'defi'\"]\n",
      "[-5463.19546689 -3814.04842568 -1437.35193877 -2037.77306567\n",
      " -2722.41633105 -1341.86230638 -1410.30489743  -513.08851665\n",
      "  -103.71884784   -40.43700326]\n",
      "\tCV_Error: -1888.4196800\n",
      "Num Features: 4\n",
      "\tFeatures selected: ['cmc_rank', 'percent_change_7d', \"'binance-smart-chain'\", \"'defi'\"]\n",
      "[-5461.20326415 -3819.12217573 -1435.60463444 -2049.44230777\n",
      " -2720.38629593 -1339.11930388 -1411.02200922  -514.11074333\n",
      "  -103.9732555    -42.87338158]\n",
      "\tCV_Error: -1889.6857372\n",
      "Num Features: 5\n",
      "\tFeatures selected: ['cmc_rank', 'percent_change_7d', \"'binance-smart-chain'\", \"'collectibles-nfts'\", \"'defi'\"]\n",
      "[-5506.15323908 -3843.30711933 -1428.66815441 -2066.77434802\n",
      " -2712.44247046 -1337.44412664 -1406.64361621  -506.63334613\n",
      "  -100.55801721   -48.09309708]\n",
      "\tCV_Error: -1895.6717535\n",
      "Num Features: 6\n",
      "\tFeatures selected: ['cmc_rank', 'percent_change_7d', \"'binance-smart-chain'\", \"'collectibles-nfts'\", \"'defi'\", \"'mineable'\"]\n",
      "[-5544.97347793 -3845.43768309 -1430.26841591 -2070.22236432\n",
      " -2714.56842315 -1338.86047846 -1413.21969772  -512.24537447\n",
      "  -103.79655819   -43.58213624]\n",
      "\tCV_Error: -1901.7174609\n",
      "Num Features: 7\n",
      "\tFeatures selected: ['cmc_rank', 'percent_change_7d', \"'binance-smart-chain'\", \"'collectibles-nfts'\", \"'defi'\", \"'mineable'\", 'circulating/total_supply']\n",
      "[-5542.74324354 -3842.24596325 -1429.19640216 -4421.8281322\n",
      " -2711.80530073 -1336.61157555 -1410.38105018  -511.971028\n",
      "  -103.87998015   -43.31164945]\n",
      "\tCV_Error: -2135.3974325\n"
     ]
    }
   ],
   "source": [
    "from sklearn.feature_selection import SequentialFeatureSelector\n",
    "#crypto1 = whr_clean_sample.drop(['country'],axis=1)\n",
    "# only used the 'train data' ( the data excluding year 2020)\n",
    "Y_sfs= Y.copy()\n",
    "X_sfs= X.copy()\n",
    "CV_scores_sfs = []\n",
    "predictors =X.columns\n",
    "model= LinearRegression()\n",
    "\n",
    "for feats in range(1, len(predictors)-1):\n",
    "    print(\"Num Features:\",feats)\n",
    "    sfs = SequentialFeatureSelector(model, \n",
    "                                    n_features_to_select = feats, \n",
    "                                    direction=\"forward\",\n",
    "                                    scoring='neg_mean_squared_error',\n",
    "                                    cv=10) \n",
    "    sfs = sfs.fit(X_sfs,Y_sfs)\n",
    "    print(\"\\tFeatures selected:\", list(predictors[sfs.get_support()]))\n",
    "    X_subset = sfs.transform(X_sfs)\n",
    "    cross_val=cross_val_score(model, X_subset,Y_sfs, cv=10, scoring='neg_mean_squared_error')\n",
    "    print(cross_val)\n",
    "    CV_error = np.mean(cross_val)\n",
    "    CV_scores_sfs.append(CV_error)\n",
    "    print(\"\\tCV_Error: %10.7f\"%CV_error)"
   ]
  },
  {
   "cell_type": "markdown",
   "id": "a418bb03",
   "metadata": {},
   "source": [
    "Features selected should be ['cmc_rank', \"'defi'\"], with the smallest CV error."
   ]
  },
  {
   "cell_type": "code",
   "execution_count": null,
   "id": "077439ee",
   "metadata": {},
   "outputs": [],
   "source": []
  }
 ],
 "metadata": {
  "kernelspec": {
   "display_name": "Python 3",
   "language": "python",
   "name": "python3"
  },
  "language_info": {
   "codemirror_mode": {
    "name": "ipython",
    "version": 3
   },
   "file_extension": ".py",
   "mimetype": "text/x-python",
   "name": "python",
   "nbconvert_exporter": "python",
   "pygments_lexer": "ipython3",
   "version": "3.8.8"
  }
 },
 "nbformat": 4,
 "nbformat_minor": 5
}
